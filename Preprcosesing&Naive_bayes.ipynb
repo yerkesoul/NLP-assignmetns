{
 "cells": [
  {
   "cell_type": "markdown",
   "metadata": {},
   "source": [
    "# ANLP 2021 - Assignment 1\n"
   ]
  },
  {
   "cell_type": "markdown",
   "metadata": {},
   "source": [
    "*Yerkezhan Abdullayeva"
   ]
  },
  {
   "cell_type": "markdown",
   "metadata": {},
   "source": [
    "<div class=\"alert alert-block alert-danger\">Due: Monday, November 29</div>"
   ]
  },
  {
   "cell_type": "markdown",
   "metadata": {},
   "source": [
    "<div class=\"alert alert-block alert-info\">\n",
    "\n",
    "**NOTE**\n",
    "\n",
    "Please first fill in your name and id number at the top of the assignment, and **rename** the assignment file to **yourlastname-anlp-1.ipynb**<br><br>\n",
    "Problems and questions are given in blue boxes like this one. All grey and white boxes must be filled by you (they either require code or a (brief!) discussion). <br><br>\n",
    "Please hand in your assignment by the deadline via Moodle upload. In case of questions, you can reach us via the piazza forum, or by email.<br><br>\n",
    "<b>For this assignment, do NOT use any external packages (NLTK or any others) EXCEPT where specified.</b>\n",
    "</div>"
   ]
  },
  {
   "cell_type": "markdown",
   "metadata": {},
   "source": [
    "<div class=\"alert alert-block alert-info\">\n",
    "In this assignment, you will implement and work with a Naive Bayes classifier. (Note that for this exercise, you don't need to represent the input as a vector necessarily. You can directly look at the presence of words, and look up the class conditional likelihood.)\n",
    "<br>\n",
    "<br>\n",
    "We will use a Twitter dataset classified into \"hate speech\" and \"non hate speech\" (in our data, we have called these classes \"offensive\" and \"nonoffensive\" to avoid the charged and inaccurate term \"hate speech\"). First, load the data (we have provided the function for this):\n",
    "</div>"
   ]
  },
  {
   "cell_type": "code",
   "execution_count": 2,
   "metadata": {
    "tags": [
     "run-pre"
    ]
   },
   "outputs": [],
   "source": [
    "import csv\n",
    "import json\n",
    "from nltk.tokenize import TweetTokenizer\n",
    "\n",
    "def read_hate_tweets (annofile, jsonfile):\n",
    "    \"\"\"Reads in hate speech data.\"\"\"\n",
    "    all_data = {}\n",
    "    annos = {}\n",
    "    with open(annofile) as csvfile:\n",
    "        csvreader = csv.reader(csvfile, delimiter=',')\n",
    "        for row in csvreader:\n",
    "            if row[0] in annos:\n",
    "                # if duplicate with different rating, remove!\n",
    "                if row[1] != annos[row[0]]:\n",
    "                    del(annos[row[0]])\n",
    "            else:\n",
    "                annos[row[0]] = row[1]\n",
    "\n",
    "    tknzr = TweetTokenizer()\n",
    "                \n",
    "    with open(jsonfile) as jsonfile:\n",
    "        for line in jsonfile:\n",
    "            twtjson = json.loads(line)\n",
    "            twt_id = twtjson['id_str']\n",
    "            if twt_id in annos:\n",
    "                all_data[twt_id] = {}\n",
    "                all_data[twt_id]['offensive'] = \"nonoffensive\" if annos[twt_id] == 'none' else \"offensive\"\n",
    "                all_data[twt_id]['text_tok'] = tknzr.tokenize(twtjson['text'])\n",
    "\n",
    "    # split training and test data:\n",
    "    all_data_sorted = sorted(all_data.items())\n",
    "    items = [(i[1]['text_tok'],i[1]['offensive']) for i in all_data_sorted]\n",
    "    splititem = len(all_data)-3250\n",
    "    train_dt = items[:splititem]\n",
    "    test_dt = items[splititem:]\n",
    "    print('Training data:',len(train_dt))\n",
    "    print('Test data:',len(test_dt))\n",
    "\n",
    "    return(train_dt,test_dt)"
   ]
  },
  {
   "cell_type": "code",
   "execution_count": 3,
   "metadata": {},
   "outputs": [
    {
     "name": "stdout",
     "output_type": "stream",
     "text": [
      "Training data: 12896\n",
      "Test data: 3250\n"
     ]
    }
   ],
   "source": [
    "TWEETS_ANNO = 'NAACL_SRW_2016.csv'\n",
    "TWEETS_TEXT = 'NAACL_SRW_2016_tweets.json'\n",
    "\n",
    "(train_data,test_data) = read_hate_tweets(TWEETS_ANNO,TWEETS_TEXT)"
   ]
  },
  {
   "cell_type": "markdown",
   "metadata": {},
   "source": [
    "<div class=\"alert alert-block alert-info\">\n",
    "Each item in our data consists of a tuple of the tweet text and its label (represented as a string). The tweet text has been tokenized and is represented as a list of words. We can look at an example item:\n",
    "</div>"
   ]
  },
  {
   "cell_type": "code",
   "execution_count": 63,
   "metadata": {},
   "outputs": [
    {
     "name": "stdout",
     "output_type": "stream",
     "text": [
      "(['At', 'this', 'rate', ',', \"I'm\", 'going', 'to', 'be', 'making', 'slides', 'for', 'a', 'keynote', 'in', 'my', 'car', 'as', 'I', 'drive', 'home', '.'], 'nonoffensive')\n"
     ]
    }
   ],
   "source": [
    "print(train_data[4387])"
   ]
  },
  {
   "cell_type": "markdown",
   "metadata": {},
   "source": [
    "## Problem 1: Evaluation [15 pts]"
   ]
  },
  {
   "cell_type": "markdown",
   "metadata": {},
   "source": [
    "<div class=\"alert alert-block alert-info\">\n",
    "\n",
    "The first thing you're being asked to do is to provide evaluation functions for a classifier and a given labelled test set. Assume that the classifier has a `predict()` function that takes an item in the form of a list as above and predicts a class for that item. Write evaluation functions to compute the `accuracy` and `f_1` score for such a classifier. (To test your functions without having access to a real `predict()` function, you could simulate one that makes random predictions.)\n",
    "\n",
    "</div>"
   ]
  },
  {
   "cell_type": "code",
   "execution_count": 4,
   "metadata": {
    "tags": [
     "test-metrics"
    ]
   },
   "outputs": [],
   "source": [
    "#Accurac89y evb,aluates how many data points are predicted correctly.\n",
    "\n",
    "def accuracy(classifier, data):\n",
    "    true_Y1=[]\n",
    "    for element in data:\n",
    "        true_Y1.append(element[1])        \n",
    "#We create a variable to put all of the true values in it.\n",
    "\n",
    "    predicted_Y1=[]\n",
    "    for element in data:\n",
    "        predicted_Y1.append(classifier.predict(element[0]))\n",
    "    truely_predicted1 = 0 \n",
    "#if the label is truly assigned and the prediciton was right,then we add it into newly created 'truely_predicted' list. \n",
    "    for element in range(0, len(true_Y1)): \n",
    "        if list(true_Y1[element])==list(predicted_Y1[element]):\n",
    "            truely_predicted1+= 1\n",
    "            \n",
    "#Accuracy = (correctly predicted class / total testing class) × 100%;\n",
    "#The numerical value of accuracy represents the proportion of true positive results (both true positive and true negative) \n",
    "    accuracy_1 = truely_predicted1 / len(true_Y1)*100\n",
    "    return accuracy_1\n",
    "\n",
    "\n",
    "\n",
    "\n",
    "#F-1 score provides a single score that balances both the concerns of precision and recall in one number.\n",
    "\n",
    "def f_1(classifier, data):\n",
    "    true_Y2=[]\n",
    "    for element in data:\n",
    "        true_Y2.append(element[1])\n",
    "    \n",
    "    predicted_Y2=[]\n",
    "    for element in data:\n",
    "        predicted_Y2.append(classifier.predict(element[0]))\n",
    "#The number of correct and incorrect predictions are summarized with count values and broken down by each class\n",
    "    tp=0 #true positive\n",
    "    tn=0 #true negative\n",
    "    fp=0 #false positive\n",
    "    fn=0 #false negative\n",
    "    \n",
    "    for element in range(0, len(true_Y2)):\n",
    "        if predicted_Y2[element] == 'offensive':\n",
    "            if true_Y2[element] == 'offensive':\n",
    "                tp += 1\n",
    "            else:\n",
    "                fp += 1\n",
    "                \n",
    "        elif predicted_Y2[element] == 'nonoffensive':\n",
    "            if true_Y2[element] == 'nonoffensive':\n",
    "                tn += 1\n",
    "            else:\n",
    "                fn += 1\n",
    "#Precision  calculates the ratio of correctly predicted positive examples divided by the total number of positive examples that were predicted.           \n",
    "    precision = tp / (tp + fp) \n",
    "#Recall calculates how many of the Actual Positives our model capture through labeling it as Positive (True Positive).\n",
    "    recall = tp / (tp + fn) \n",
    "    F1_score = (2 * precision * recall / (precision + recall))*100\n",
    "# We need F1 Score because we want to seek a balance between Precision and Recall.It is a trade off between 2 measurements.\n",
    "    \n",
    "    return F1_score\n"
   ]
  },
  {
   "cell_type": "markdown",
   "metadata": {},
   "source": [
    "## Problem 2: Naive Bayes Classifier [35 pts]"
   ]
  },
  {
   "cell_type": "markdown",
   "metadata": {},
   "source": [
    "<div class=\"alert alert-block alert-info\">\n",
    "Next, implement the Naive Bayes classifier from scratch using the code skeleton below and the definitions from class.<br><br>\n",
    "\n",
    "Some requirements and notes for implementation:\n",
    "\n",
    "<ul>\n",
    "<li> You should allow for an arbitrary number of classes (in particular, you should not hard code the two classes needed for the given dataset). \n",
    "<li> The vocabulary of your classifier should be created dynamically from the training data. (The vocabulary is the set of all words that occur in the training data.).\n",
    "<li> Use additive smoothing with a provided parameter k. \n",
    "<li> You may encounter unknown words at test time. Since we're not allowed to \"peek\" into the test set, we will implement the following simple treatment: We will assume that we don't know anything about unknown words and that in particular, their presence does not tell us anything about which class a document should be assigned to. Therefore, we will not include them in the calculation of the (log) probabilities during prediction, under the assumption that their probability does not differ hugely between the different classes (probably not a correct assumption, but the best we can do at this point). Since we don't need correct probabilities but only most likely classes, just ignore unknown words during prediction.\n",
    "<li> Use log probabilities in order to avoid underflow.\n",
    "</ul>\n",
    "\n",
    "</div>"
   ]
  },
  {
   "cell_type": "markdown",
   "metadata": {},
   "source": [
    "Naive Bayes algorithm is a supervised learning algorithm, which is based on Bayes theorem and used for solving classification problems.It is a probabilistic classifier, which means it predicts on the basis of the probability of an object"
   ]
  },
  {
   "cell_type": "code",
   "execution_count": 5,
   "metadata": {
    "tags": [
     "test-naive-bayes"
    ]
   },
   "outputs": [],
   "source": [
    "import math\n",
    "class NaiveBayes(object): \n",
    "    \n",
    "    def __init__(self, pb_of_cls, pb_of_wrd_class):\n",
    "        self.pb_of_cls = pb_of_cls\n",
    "        self.pb_of_wrd_class = pb_of_wrd_class\n",
    "        pass\n",
    "\n",
    "    \n",
    "    def predict(self, x):\n",
    "        probability_document_class = {}\n",
    "        \n",
    "        for element in self.pb_of_cls:\n",
    "            one_pb_of_cls = math.log(self.pb_of_cls[element]) \n",
    "            for word in x: \n",
    "                if word in self.pb_of_wrd_class: \n",
    "                    one_pb_of_cls += math.log(self.pb_of_wrd_class[word][element])\n",
    "                    #np\n",
    "                else:\n",
    "                    pass         \n",
    "            probability_document_class[element] = one_pb_of_cls\n",
    "                   \n",
    "        Arg_max = max(probability_document_class, key=probability_document_class.get)\n",
    "        # search how to get the index of the maximum value in a list   \n",
    "        return Arg_max\n",
    "        \n",
    "    @classmethod\n",
    "    def train(cls, data, k=1):\n",
    "        sum_of_classes = {}\n",
    "        pb_of_wrd_class = {}\n",
    "        pb_of_cls = {}\n",
    "        vocabulary =  []\n",
    "        \n",
    "    \n",
    "        for element in data: \n",
    "            if element[1] in sum_of_classes:\n",
    "                sum_of_classes[element[1]] += 1 \n",
    "            else:\n",
    "                sum_of_classes[element[1]] = 1\n",
    "        \n",
    "        \n",
    "        for element in sum_of_classes:\n",
    "            prob = sum_of_classes[element] / len(data) \n",
    "            pb_of_cls[element] =  prob\n",
    "        txt_cls = {c1ass: [] for c1ass in pb_of_cls}\n",
    "        \n",
    "        for element in data:\n",
    "            txt_cls[element[1]].extend(element[0])\n",
    "       \n",
    "        \n",
    "        for element in txt_cls:\n",
    "            vocabulary.extend(txt_cls[element])\n",
    "            \n",
    "        individual = list(set(vocabulary)) \n",
    "        \n",
    "         \n",
    "        \n",
    "        for word in individual:\n",
    "            cls_of_wrd = {} \n",
    "            for c1ass in txt_cls:\n",
    "                cls_of_wrd[c1ass] = (txt_cls[c1ass].count(word) + k) / (len (txt_cls[c1ass]) + k * len(individual))\n",
    "            pb_of_wrd_class[word] = cls_of_wrd\n",
    "        \n",
    "        return cls(pb_of_cls, pb_of_wrd_class)"
   ]
  },
  {
   "cell_type": "markdown",
   "metadata": {},
   "source": [
    "<div class=\"alert alert-block alert-info\">\n",
    "Evaluate your classifier by training and testing it on the given data. Vary the smoothing parameter k. What happens when you decrease k? Plot a graph of the accuracy and/or f-score given different values of k. Discuss your findings.</div>"
   ]
  },
  {
   "cell_type": "code",
   "execution_count": 5,
   "metadata": {},
   "outputs": [
    {
     "name": "stdout",
     "output_type": "stream",
     "text": [
      "Accuracy:  85.72307692307692\n",
      "F_1:  51.56576200417536\n"
     ]
    }
   ],
   "source": [
    "nb = NaiveBayes.train(train_data)\n",
    "print(\"Accuracy: \",accuracy(nb, test_data))\n",
    "print(\"F_1: \", f_1(nb,test_data))\n",
    "# TODO: test further smoothing parameters"
   ]
  },
  {
   "cell_type": "code",
   "execution_count": 11,
   "metadata": {},
   "outputs": [
    {
     "data": {
      "text/plain": [
       "Text(0.5, 1.0, 'The change of the F-1 Score depending on smoothing')"
      ]
     },
     "execution_count": 11,
     "metadata": {},
     "output_type": "execute_result"
    },
    {
     "data": {
      "image/png": "[encoded data removed]",
      "text/plain": [
       "<Figure size 432x288 with 1 Axes>"
      ]
     },
     "metadata": {
      "needs_background": "light"
     },
     "output_type": "display_data"
    }
   ],
   "source": [
    "import matplotlib.pyplot as plt\n",
    "%matplotlib inline\n",
    "smoothing_k_parameters= [1,2,3,4,5]\n",
    "f1_with_smoothing_train= []\n",
    "f1_with_smoothing_test= []\n",
    "for k_value in smoothing_k_parameters:\n",
    "    nb = NaiveBayes.train(train_data, k = k_value)\n",
    "    f1_with_smoothing_test.append(f_1(nb, test_data))\n",
    "    f1_with_smoothing_train.append(f_1(nb, train_data))\n",
    "plt.plot(smoothing_k_parameters, f1_with_smoothing_test, label = \"testing,F_1\",color='green')\n",
    "plt.plot(smoothing_k_parameters, f1_with_smoothing_train, label = \"training,F_1\",color='red')\n",
    "plt.xlabel(\"Values of Smooting Paramters\")\n",
    "plt.ylabel('F-1 Score')\n",
    "plt.title(\"The change of the F-1 Score depending on smoothing\")"
   ]
  },
  {
   "cell_type": "code",
   "execution_count": 10,
   "metadata": {},
   "outputs": [
    {
     "data": {
      "text/plain": [
       "Text(0.5, 1.0, 'The change of the Accuracy depending on smoothing')"
      ]
     },
     "execution_count": 10,
     "metadata": {},
     "output_type": "execute_result"
    },
    {
     "data": {
      "image/png": "[encoded data removed]",
      "text/plain": [
       "<Figure size 432x288 with 1 Axes>"
      ]
     },
     "metadata": {
      "needs_background": "light"
     },
     "output_type": "display_data"
    }
   ],
   "source": [
    "smoothing_k_parameters2 = [1,2,3,4,5]\n",
    "accuracy_with_smoothing_train= []\n",
    "accuracy_with_smoothing_test= []\n",
    "for k_value in smoothing_k_parameters2:\n",
    "    nb = NaiveBayes.train(train_data, k = k_value)\n",
    "    accuracy_with_smoothing_train.append(accuracy(nb, test_data))\n",
    "    accuracy_with_smoothing_test.append(accuracy(nb, train_data))\n",
    "plt.plot(smoothing_k_parameters2, accuracy_with_smoothing_test, label = \"testing,F_1\",color='green')\n",
    "plt.plot(smoothing_k_parameters2, accuracy_with_smoothing_train, label = \"training,F_1\",color='red')\n",
    "plt.xlabel(\"Values of Smooting Paramters\")\n",
    "plt.ylabel('Accuracy')\n",
    "plt.title(\"The change of the Accuracy depending on smoothing\")"
   ]
  },
  {
   "cell_type": "code",
   "execution_count": 16,
   "metadata": {},
   "outputs": [
    {
     "data": {
      "text/plain": [
       "Text(0.5, 1.0, 'The change of the Accuracy depending on smoothing')"
      ]
     },
     "execution_count": 16,
     "metadata": {},
     "output_type": "execute_result"
    },
    {
     "data": {
      "image/png": "[encoded data removed]",
      "text/plain": [
       "<Figure size 432x288 with 1 Axes>"
      ]
     },
     "metadata": {
      "needs_background": "light"
     },
     "output_type": "display_data"
    }
   ],
   "source": [
    "#What happens when you decrease k?\n",
    "smoothing_k_parameters3 = [0.1,0.2,0.3,0.5,0.6,0.7,0.8,0.9,1]\n",
    "accuracy_with_smoothing_train3= []\n",
    "accuracy_with_smoothing_test3= []\n",
    "for k_value in smoothing_k_parameters3:\n",
    "    nb = NaiveBayes.train(train_data, k = k_value)\n",
    "    accuracy_with_smoothing_train3.append(accuracy(nb, test_data))\n",
    "    accuracy_with_smoothing_test3.append(accuracy(nb, train_data))\n",
    "plt.plot(smoothing_k_parameters3, accuracy_with_smoothing_test3, label = \"testing,F_1\",color='green')\n",
    "plt.plot(smoothing_k_parameters3, accuracy_with_smoothing_train3, label = \"training,F_1\",color='red')\n",
    "plt.xlabel(\"Values of Smooting Paramters\")\n",
    "plt.ylabel('Accuracy')\n",
    "plt.title(\"The change of the Accuracy depending on smoothing\")"
   ]
  },
  {
   "cell_type": "code",
   "execution_count": 13,
   "metadata": {},
   "outputs": [
    {
     "name": "stdout",
     "output_type": "stream",
     "text": [
      "Accuracy of test:  86.03076923076924\n",
      "F_1 of test data:  47.20930232558139\n",
      "As we can see,if we change the k-value to 2,then the accuracy becomes better(from 85.03 to 86.72).However,in this scenario the F-1 score goes worse from 51.56 to 47.20 \n"
     ]
    }
   ],
   "source": [
    "nb_with2 = NaiveBayes.train(train_data, k=2)\n",
    "print(\"Accuracy of test: \",accuracy(nb_with2, test_data))\n",
    "print(\"F_1 of test data: \", f_1(nb_with2,test_data))\n",
    "#Accuracy:  85.72307692307692\n",
    "#F_1:  51.56576200417536'\n",
    "print('As we can see,if we change the k-value to 2,then the accuracy becomes better(from 85.03 to 86.72).However,in this scenario the F-1 score goes worse from 51.56 to 47.20 ')"
   ]
  },
  {
   "cell_type": "markdown",
   "metadata": {},
   "source": [
    "## Problem 3: Feature Engineering [20 pts]"
   ]
  },
  {
   "cell_type": "markdown",
   "metadata": {},
   "source": [
    "<div class=\"alert alert-block alert-info\">\n",
    "\n",
    "We mentioned that the Naive Bayes classifier can be used with many different feature types. Try to improve on the basic bag of words model by changing the feature list of your model. Implement at least two variants. For each, explain your motivation for this feature set, and test the classifier with the given data. Briefly discuss your results!<br><br> \n",
    "Ideas for feature sets that were mentioned in class include:\n",
    "\n",
    "<ul>\n",
    "<li> removing stop words or frequent words\n",
    "<li> stemming or lemmatizing (you can use NLTK or spacy.io for basic NLP operations on the texts)\n",
    "<li> introducing part of speech tags as features (how?)\n",
    "<li> bigrams\n",
    "</ul>\n",
    "\n",
    "</div>"
   ]
  },
  {
   "cell_type": "markdown",
   "metadata": {},
   "source": [
    "I decided to check how each mehtod of preprocessing would behave and how the Accuracy and F-score.As we have the pretrained data which contains words and all of preprocessing methods could suit."
   ]
  },
  {
   "cell_type": "markdown",
   "metadata": {},
   "source": [
    "# 1.Removing stop words.\n",
    "On removing stopwords, dataset size decreases and the time to train the model also decreases. Removing stopwords can potentially help improve the performance as there are fewer and only meaningful tokens left."
   ]
  },
  {
   "cell_type": "code",
   "execution_count": 16,
   "metadata": {},
   "outputs": [
    {
     "name": "stdout",
     "output_type": "stream",
     "text": [
      "Accuracy:  86.06153846153846\n",
      "F_1:  53.056994818652846\n"
     ]
    }
   ],
   "source": [
    "#Removing stop words.\n",
    "\n",
    "import nltk\n",
    "from nltk.corpus import stopwords\n",
    "stop_words = stopwords.words('english')\n",
    " \n",
    "\n",
    "def reduce_stopwords(data):\n",
    "    reduced_stopwords=[]\n",
    "    for word in data:\n",
    "        if word not in stop_words:\n",
    "            reduced_stopwords.append(word)\n",
    "        else:\n",
    "            pass\n",
    "    return reduced_stopwords\n",
    "\n",
    "\n",
    "reduce_stopwords_train = list((reduce_stopwords(data), element) for data, element in train_data)\n",
    "nb_stopwords = NaiveBayes.train(reduce_stopwords_train)\n",
    "reduce_stopwords_test = list((reduce_stopwords(data), element) for data, element in test_data)\n",
    "print(\"Accuracy: \",accuracy(nb_stopwords,reduce_stopwords_test ))\n",
    "print(\"F_1: \", f_1(nb_stopwords,reduce_stopwords_test))\n",
    "#As you can see the accuracy and F-1 score have not changed much,here there are previous results without preprocessing:\n",
    "#Accuracy:  85.72307692307692\n",
    "#F_1:  51.56576200417536"
   ]
  },
  {
   "cell_type": "markdown",
   "metadata": {},
   "source": [
    "# 2.Stemming.\n",
    "A stemmer will return the stem of a word, which needn't be identical to the morphological root of the word. It usually sufficient that related words map to the same stem,even if the stem is not in itself a valid root, while in lemmatisation, it will return the dictionary form of a word, which must be a valid word."
   ]
  },
  {
   "cell_type": "code",
   "execution_count": 39,
   "metadata": {},
   "outputs": [
    {
     "name": "stdout",
     "output_type": "stream",
     "text": [
      "Accuracy:  89.41533506750898\n",
      "F_1:  83.35119337554798\n"
     ]
    }
   ],
   "source": [
    "from nltk.stem.snowball import SnowballStemmer\n",
    "stemmed_text=[]\n",
    "stemmer_built_in= SnowballStemmer(\"english\")\n",
    "def stemmer(data):\n",
    "    for element in data:\n",
    "        document_stem = []\n",
    "        for word in element[0]:\n",
    "            document_stem.append(stemmer_built_in.stem(word))\n",
    "        stemmed_text.append((document_stem,element[1]))\n",
    "        \n",
    "    return stemmed_text\n",
    "\n",
    "stemmed_train_data=stemmer(train_data)\n",
    "stemmed_test_data=stemmer(test_data)\n",
    "nb_stemming=NaiveBayes.train(stemmed_train_data)\n",
    "print(\"Accuracy: \",accuracy(nb_stemming,stemmed_test_data))\n",
    "print(\"F_1: \", f_1(nb_stemming,stemmed_test_data))"
   ]
  },
  {
   "cell_type": "markdown",
   "metadata": {},
   "source": [
    "# 3.Lemmatisation\n",
    "In lemmatisation, the part of speech of a word should be first determined and the normalisation rules will be different for different part of speech, while the stemmer operates on a single word without knowledge of the context, and therefore cannot discriminate between words which have different meanings depending on part of speech.\n",
    "Reference: http://textminingonline.com/dive-into-nltk-part-iv-stemming-and-lemmatization"
   ]
  },
  {
   "cell_type": "code",
   "execution_count": 42,
   "metadata": {},
   "outputs": [
    {
     "name": "stdout",
     "output_type": "stream",
     "text": [
      "Accuracy:  84.33048433048434\n",
      "F_1:  71.53465346534654\n"
     ]
    }
   ],
   "source": [
    "from nltk.stem import WordNetLemmatizer \n",
    "lemmitized_text = []\n",
    "lemmitizer_built_in=WordNetLemmatizer()\n",
    "def lemmatizer(data):\n",
    "    for element in data:\n",
    "        document_lemmatized = []\n",
    "        for word in element[0]:\n",
    "            document_lemmatized.append(lemmitizer_built_in.lemmatize(word))\n",
    "        lemmitized_text.append((document_lemmatized,element[1]))\n",
    "    return lemmitized_text\n",
    "\n",
    "lemmitized_train_data=lemmatizer(train_data)\n",
    "lemmitized_test_data=lemmatizer(test_data)\n",
    "nb_lemmatization=NaiveBayes.train(stemmed_train_data)\n",
    "print(\"Accuracy: \",accuracy(nb_lemmatization,lemmitized_test_data))\n",
    "print(\"F_1: \", f_1(nb_lemmatization,lemmitized_test_data))"
   ]
  },
  {
   "cell_type": "markdown",
   "metadata": {},
   "source": [
    "# 4.Introducing part of speech tags as features.\n",
    "It is a process of converting a sentence to forms – list of words, list of tuples (where each tuple is having a form (word, tag)). The tag in case of is a part-of-speech tag, and signifies whether the word is a noun, adjective, verb, and so on."
   ]
  },
  {
   "cell_type": "code",
   "execution_count": 49,
   "metadata": {},
   "outputs": [
    {
     "name": "stderr",
     "output_type": "stream",
     "text": [
      "[nltk_data] Downloading package averaged_perceptron_tagger to\n",
      "[nltk_data]     /Users/yerkesoul/nltk_data...\n",
      "[nltk_data]   Unzipping taggers/averaged_perceptron_tagger.zip.\n"
     ]
    },
    {
     "data": {
      "text/plain": [
       "True"
      ]
     },
     "execution_count": 49,
     "metadata": {},
     "output_type": "execute_result"
    }
   ],
   "source": [
    "nltk.download('averaged_perceptron_tagger')"
   ]
  },
  {
   "cell_type": "markdown",
   "metadata": {},
   "source": [
    "Averaged Perceptron Tagger is used for tokenising sentences and averaged_perceptron_tagger is used for tagging words with their parts of speech (POS)"
   ]
  },
  {
   "cell_type": "code",
   "execution_count": 58,
   "metadata": {},
   "outputs": [
    {
     "name": "stdout",
     "output_type": "stream",
     "text": [
      "Accuracy:  93.88127539425659\n",
      "F_1:  90.88764678734424\n"
     ]
    }
   ],
   "source": [
    "POS_tagging_1 = []\n",
    "POS_tagging_2 = []\n",
    "def POS_tagger(data):    \n",
    "    for element in data:\n",
    "        tagged = nltk.pos_tag(element[0])\n",
    "        POS_tagging_1.append((tagged, element[1]))\n",
    "    \n",
    "    for word in POS_tagging_1:\n",
    "        tags = []\n",
    "        for element in word[0]:\n",
    "            tags.append(element[0] + ',' + element[1])\n",
    "    \n",
    "        POS_tagging_2.append((tags, word[1]))\n",
    "        \n",
    "    return POS_tagging_2\n",
    "\n",
    "pos_tagged_train = POS_tagger(train_data)\n",
    "pos_tagged_test = POS_tagger(test_data)\n",
    "nb_pos_tagged = NaiveBayes.train(pos_tagged_train)\n",
    "print(\"Accuracy: \",accuracy(nb_pos_tagged,pos_tagged_test))\n",
    "print(\"F_1: \", f_1(nb_pos_tagged,pos_tagged_test))"
   ]
  },
  {
   "cell_type": "markdown",
   "metadata": {},
   "source": [
    "Conclusion:\n",
    "From all of the pre-processing steps the Part of speech tagging showed the best results.Accuracy becoming better from the 85.72307692307692 to 93.88127539425659 and the improvement of the F_1 score from 51.56576200417536 to 90.88764678734424."
   ]
  },
  {
   "cell_type": "markdown",
   "metadata": {},
   "source": [
    "## Problem 4: Logistic Regression Classifier [30 pts]"
   ]
  },
  {
   "cell_type": "code",
   "execution_count": null,
   "metadata": {},
   "outputs": [],
   "source": []
  },
  {
   "cell_type": "markdown",
   "metadata": {},
   "source": [
    "<div class=\"alert alert-block alert-info\">\n",
    "    \n",
    "Implement a logistic regression classifier using the definitions given in class and gradient descent. For this, you will have to use a matrix representation for your data to keep track of each feature's weights per class, which you can implement using the `numpy` package. <br><br> \n",
    "Start by implementing a function `featurize()` that converts the (training or testing) data into a matrix format. This function should return a pair of NumPy matrices 𝑿, 𝒀, where 𝑿 is an 𝑁 × 𝐹 matrix (𝑁: number of data instances, 𝐹: number of features), and where 𝒀 is an 𝑁 × 2 matrix whose rows have one of two forms:<br><br>\n",
    "[1, 0] if the gold-standard annotation class for the corresponding tweet is ‘offensive’, or <br><br>\n",
    "[0, 1] if the gold-standard class for the corresponding document is ‘nonoffensive’<br><br>\n",
    "This kind of representation is known as a one-hot encoding. You can read the first vector as saying that ‘there is a 100% chance that the instance belongs to the “offensive” class and a 0% chance that it belongs to the “nonoffensive” class’, and similarly for the second vector. Note that these are the two extreme cases for the conditional probability distribution P(k|x) for class k and feature vector x.<br><br>\n",
    "To implement the `featurize()` function, you will need to assign to each word in the training set a unique integer index which will identify that component of the feature vector which is 1 if the corresponding word is present in the document, and 0 otherwise. This index is built by the helper function `build_w2i()`.<br><br>\n",
    "Your next task is to complete the implementation of the `LogReg` class. The methods `p()` and `predict()` yield the probability of a class given an item, and the best class for the item, respectively. They can be implemented using appropriate NumPy matrix operations and the provided `softmax()` function. Note that you should set up both methods to take a whole matrix of input vectors as input, not just a single vector.<br><br>\n",
    "The training procedure is implemented in the (class) method `train()`, using iterative optimization. Typically, we shuffle the training data and split them into mini-batches (e.g, 100 items), then update the weights after each minibatch. This is done for `max_iter` number of iterations, or \"epochs\". Each epoch iterates over the training data set once.<br><br>\n",
    "Implement the missing methods using l_2 regularization with parameter C=0.1\n",
    "\n",
    "</div>"
   ]
  },
  {
   "cell_type": "code",
   "execution_count": null,
   "metadata": {
    "tags": [
     "test-log-reg"
    ]
   },
   "outputs": [],
   "source": [
    "import numpy as np\n",
    "\n",
    "class LogReg:\n",
    "    def __init__(self, eta=0.01, num_iter=30):\n",
    "        self.eta = eta\n",
    "        self.num_iter = num_iter\n",
    "    \n",
    "    def softmax(self, inputs):\n",
    "        \"\"\"\n",
    "        Calculate the softmax for the give inputs (array)\n",
    "        :param inputs:\n",
    "        :return:\n",
    "        \"\"\"\n",
    "        return np.exp(inputs) / float(sum(np.exp(inputs)))\n",
    "    \n",
    "    def train(self, X, Y):\n",
    "\n",
    "        # weights initialization\n",
    "        self.weights = np.zeros(X.shape[1])\n",
    "        \n",
    "        for i in range(self.num_iter):\n",
    "            # TODO: Fill in iterative updating of weights\n",
    "            pass\n",
    "        return None\n",
    "    \n",
    "    def p(self, X): \n",
    "        # TODO: Fill in (log) probability prediction\n",
    "        return 0.0\n",
    "    \n",
    "    def predict(self, X):\n",
    "        # TODO: Replace next line with prediction of best class\n",
    "        return None"
   ]
  },
  {
   "cell_type": "markdown",
   "metadata": {},
   "source": [
    "<div class=\"alert alert-block alert-info\">\n",
    "Test your implementation using 10 iterations, default learning rate eta, and l_2 regularization with parameter C=0.1.\n",
    "</div>"
   ]
  },
  {
   "cell_type": "code",
   "execution_count": null,
   "metadata": {},
   "outputs": [],
   "source": []
  }
 ],
 "metadata": {
  "celltoolbar": "Tags",
  "kernelspec": {
   "display_name": "Python 3",
   "language": "python",
   "name": "python3"
  },
  "language_info": {
   "codemirror_mode": {
    "name": "ipython",
    "version": 3
   },
   "file_extension": ".py",
   "mimetype": "text/x-python",
   "name": "python",
   "nbconvert_exporter": "python",
   "pygments_lexer": "ipython3",
   "version": "3.8.8"
  },
  "latex_envs": {
   "LaTeX_envs_menu_present": true,
   "autoclose": false,
   "autocomplete": true,
   "bibliofile": "biblio.bib",
   "cite_by": "apalike",
   "current_citInitial": 1,
   "eqLabelWithNumbers": true,
   "eqNumInitial": 1,
   "hotkeys": {
    "equation": "alt-ctrl-e"
   },
   "labels_anchors": false,
   "latex_user_defs": false,
   "report_style_numbering": false,
   "user_envs_cfg": false
  },
  "toc": {
   "base_numbering": 1,
   "nav_menu": {},
   "number_sections": true,
   "sideBar": true,
   "skip_h1_title": false,
   "title_cell": "Table of Contents",
   "title_sidebar": "Contents",
   "toc_cell": false,
   "toc_position": {},
   "toc_section_display": true,
   "toc_window_display": false
  }
 },
 "nbformat": 4,
 "nbformat_minor": 2
}
